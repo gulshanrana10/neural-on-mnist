{
  "nbformat": 4,
  "nbformat_minor": 0,
  "metadata": {
    "colab": {
      "name": "neural_network_gulshan_rana",
      "version": "0.3.2",
      "provenance": [],
      "collapsed_sections": [],
      "include_colab_link": true
    },
    "kernelspec": {
      "name": "python3",
      "display_name": "Python 3"
    }
  },
  "cells": [
    {
      "cell_type": "markdown",
      "metadata": {
        "id": "view-in-github",
        "colab_type": "text"
      },
      "source": [
        "<a href=\"https://colab.research.google.com/github/gulshanrana10/neural-on-mnist/blob/master/neural_network_gulshan_rana.ipynb\" target=\"_parent\"><img src=\"https://colab.research.google.com/assets/colab-badge.svg\" alt=\"Open In Colab\"/></a>"
      ]
    },
    {
      "metadata": {
        "id": "S7Wy5t5K3gO0",
        "colab_type": "code",
        "colab": {}
      },
      "cell_type": "code",
      "source": [
        "import numpy as np\n",
        "from tensorflow import keras\n",
        "import matplotlib.pyplot as plt\n",
        "import tensorflow as tf\n",
        "from tensorflow.keras.datasets import mnist \n",
        "from sklearn.metrics import confusion_matrix\n",
        "from sklearn import preprocessing\n",
        "from sklearn.metrics import accuracy_score \n",
        "from sklearn.metrics import classification_report"
      ],
      "execution_count": 0,
      "outputs": []
    },
    {
      "metadata": {
        "id": "vYHTQ5z29XK2",
        "colab_type": "code",
        "colab": {}
      },
      "cell_type": "code",
      "source": [
        "def sigmoid(z):\n",
        "  a=1/(1+np.exp(-z))\n",
        "  return(a)\n"
      ],
      "execution_count": 0,
      "outputs": []
    },
    {
      "metadata": {
        "id": "BzmXHx7d4-oy",
        "colab_type": "code",
        "colab": {}
      },
      "cell_type": "code",
      "source": [
        "(x_train, y_train), (x_test, y_test) = keras.datasets.mnist.load_data()"
      ],
      "execution_count": 0,
      "outputs": []
    },
    {
      "metadata": {
        "id": "ir6v1jVn5UrF",
        "colab_type": "code",
        "outputId": "2d942ac4-2035-4c99-9f4b-16967543a4d8",
        "colab": {
          "base_uri": "https://localhost:8080/",
          "height": 34
        }
      },
      "cell_type": "code",
      "source": [
        "print(x_train.shape,y_train.shape)\n"
      ],
      "execution_count": 0,
      "outputs": [
        {
          "output_type": "stream",
          "text": [
            "(60000, 28, 28) (60000,)\n"
          ],
          "name": "stdout"
        }
      ]
    },
    {
      "metadata": {
        "id": "zLzFVxhl5XcN",
        "colab_type": "code",
        "colab": {}
      },
      "cell_type": "code",
      "source": [
        "x_train = np.reshape(x_train, (-1, 784)).astype('float32')\n",
        "x_test = np.reshape(x_test, (-1, 784)).astype('float32')\n",
        "y_train = keras.utils.to_categorical(y_train)\n",
        "y_test = keras.utils.to_categorical(y_test)\n",
        "\n",
        "data_slice = 10000\n",
        "x_train = x_train[:data_slice,:]\n",
        "y_train = y_train[:data_slice,:]\n",
        "x_test = x_test[:data_slice,:]\n",
        "y_test = y_test[:data_slice,:]\n",
        "x_train = preprocessing.normalize(x_train)\n",
        "x_test = preprocessing.normalize(x_test)"
      ],
      "execution_count": 0,
      "outputs": []
    },
    {
      "metadata": {
        "id": "xTJpmKW-OiKj",
        "colab_type": "code",
        "outputId": "f0161ce3-be06-4d6c-f448-1ce67a9cee67",
        "colab": {
          "base_uri": "https://localhost:8080/",
          "height": 34
        }
      },
      "cell_type": "code",
      "source": [
        "print(y_train.shape,y_test.shape)"
      ],
      "execution_count": 0,
      "outputs": [
        {
          "output_type": "stream",
          "text": [
            "(10000, 10) (10000, 10)\n"
          ],
          "name": "stdout"
        }
      ]
    },
    {
      "metadata": {
        "id": "RqyGVcEc5dE1",
        "colab_type": "code",
        "colab": {}
      },
      "cell_type": "code",
      "source": [
        "#initialising weights\n",
        "theta1=np.random.rand(x_train.shape[1],400)\n",
        "theta2=np.random.rand(400,100)\n",
        "theta3=np.random.rand(100,40)\n",
        "theta4=np.random.rand(40,10)\n",
        "\n",
        "\n"
      ],
      "execution_count": 0,
      "outputs": []
    },
    {
      "metadata": {
        "id": "VMUfzFTUB7hH",
        "colab_type": "code",
        "outputId": "f529627a-685e-402f-caf3-c8cc9edb397b",
        "colab": {
          "base_uri": "https://localhost:8080/",
          "height": 34
        }
      },
      "cell_type": "code",
      "source": [
        "print(theta4.shape)"
      ],
      "execution_count": 0,
      "outputs": [
        {
          "output_type": "stream",
          "text": [
            "(40, 10)\n"
          ],
          "name": "stdout"
        }
      ]
    },
    {
      "metadata": {
        "id": "1-wWeNuF8ijj",
        "colab_type": "code",
        "outputId": "4d5ca580-54bc-45bc-d252-ce5b49b457c2",
        "colab": {
          "base_uri": "https://localhost:8080/",
          "height": 34
        }
      },
      "cell_type": "code",
      "source": [
        "#forward_propogation\n",
        "layer1=x_train    #10000,784\n",
        "layer2=sigmoid(np.dot(layer1,theta1))  #10000,400\n",
        "layer3=sigmoid(np.dot(layer2,theta2))  #10000,100\n",
        "layer4=sigmoid(np.dot(layer3,theta3)) #10000,40\n",
        "layer5=sigmoid(np.dot(layer4,theta4))  #10000,10   output_layer\n",
        "    \n",
        "        \n",
        "\n",
        "print(layer1.shape,theta4.shape)"
      ],
      "execution_count": 0,
      "outputs": [
        {
          "output_type": "stream",
          "text": [
            "(10000, 784) (40, 10)\n"
          ],
          "name": "stdout"
        }
      ]
    },
    {
      "metadata": {
        "id": "Ra17E5XIBz4V",
        "colab_type": "code",
        "outputId": "a4515439-a858-48f3-a062-e3f6ca893522",
        "colab": {
          "base_uri": "https://localhost:8080/",
          "height": 34
        }
      },
      "cell_type": "code",
      "source": [
        "print(layer5.shape,y_train.shape)"
      ],
      "execution_count": 0,
      "outputs": [
        {
          "output_type": "stream",
          "text": [
            "(10000, 10) (10000, 10)\n"
          ],
          "name": "stdout"
        }
      ]
    },
    {
      "metadata": {
        "id": "HYoz0qK49O7s",
        "colab_type": "code",
        "colab": {}
      },
      "cell_type": "code",
      "source": [
        "#finding errors\n",
        "delL=layer5-y_train        #10000,10\n",
        "\n",
        "del4=(np.dot(delL,np.transpose(theta4)))*(layer4*(1-layer4))   #10000,40\n",
        "del3=(np.dot(del4,np.transpose(theta3)))*(layer3*(1-layer3))   #10000,100\n",
        "del2=(np.dot(del3,np.transpose(theta2)))*(layer2*(1-layer2))   #10000,400\n",
        "\n",
        "\n",
        "\n"
      ],
      "execution_count": 0,
      "outputs": []
    },
    {
      "metadata": {
        "id": "_UI8ZdG-BJN0",
        "colab_type": "code",
        "colab": {}
      },
      "cell_type": "code",
      "source": [
        "#back_propogation\n",
        "alpha=0.001\n",
        "nditer=100\n",
        "for i in range(nditer):\n",
        "  theta4=theta4-alpha*(1/len(layer4))*np.dot(np.transpose(layer4),delL)  #40,10\n",
        "  theta3=theta3-alpha*(1/len(layer3))*np.dot(np.transpose(layer3),del4)  #100,40\n",
        "  theta2=theta2-alpha*(1/len(layer2))*np.dot(np.transpose(layer2),del3)  #400,100\n",
        "  theta1=theta1-alpha*(1/len(layer1))*np.dot(np.transpose(layer1),del2)  #784,400\n",
        "  \n",
        "  \n",
        "  "
      ],
      "execution_count": 0,
      "outputs": []
    },
    {
      "metadata": {
        "id": "YBnxMm3aThcn",
        "colab_type": "code",
        "outputId": "d6e472ca-3b42-4336-9b38-e6d51b28b7ba",
        "colab": {
          "base_uri": "https://localhost:8080/",
          "height": 34
        }
      },
      "cell_type": "code",
      "source": [
        "#output on test_\n",
        "op1=x_test\n",
        "op2=sigmoid(np.dot(op1,theta1)) \n",
        "op3=sigmoid(np.dot(op2,theta2))  \n",
        "op4=sigmoid(np.dot(op3,theta3)) \n",
        "op5=sigmoid(np.dot(op4,theta4))  #predicted y\n",
        "print(op5.shape,y_test.shape)\n"
      ],
      "execution_count": 0,
      "outputs": [
        {
          "output_type": "stream",
          "text": [
            "(10000, 10) (10000, 10)\n"
          ],
          "name": "stdout"
        }
      ]
    },
    {
      "metadata": {
        "id": "d7Dj9TzcUMpi",
        "colab_type": "code",
        "colab": {}
      },
      "cell_type": "code",
      "source": [
        "c=0\n",
        "for i in range(x_test.shape[0]):\n",
        "  for j in range(y_test.shape[1]):\n",
        "     if op5[i][j]>0.99999999:\n",
        "        op5[i][j]=1\n",
        "     else:\n",
        "        op5[i][j]=0\n",
        "  \n",
        "     if op5[i][j]==y_test[i][j]:\n",
        "        c=c+1\n",
        "  "
      ],
      "execution_count": 0,
      "outputs": []
    },
    {
      "metadata": {
        "id": "h8mhnshwZfnO",
        "colab_type": "code",
        "outputId": "572b54ee-de66-4125-af01-8620b08ff4e0",
        "colab": {
          "base_uri": "https://localhost:8080/",
          "height": 34
        }
      },
      "cell_type": "code",
      "source": [
        "print(c/(y_test.shape[0]*y_test.shape[1])*100)\n",
        "#print('efficiency={}'.format(c/x_test.shape[0])"
      ],
      "execution_count": 0,
      "outputs": [
        {
          "output_type": "stream",
          "text": [
            "81.96\n"
          ],
          "name": "stdout"
        }
      ]
    },
    {
      "metadata": {
        "id": "u6QJt3I9msKd",
        "colab_type": "code",
        "outputId": "17cef7ed-1176-49f4-f8b7-132a4b48c021",
        "colab": {
          "base_uri": "https://localhost:8080/",
          "height": 221
        }
      },
      "cell_type": "code",
      "source": [
        "op5=op5.reshape(100000,1)\n",
        "y_test=y_test.reshape(100000,1)\n",
        "results=confusion_matrix(y_test,op5)\n",
        "print(results)\n",
        "accuracy= accuracy_score(y_test, op5) \n",
        "report=classification_report(y_test,op5) \n",
        "print(accuracy)\n",
        "print(report)\n",
        "\n"
      ],
      "execution_count": 0,
      "outputs": [
        {
          "output_type": "stream",
          "text": [
            "[[80980  9020]\n",
            " [ 9020   980]]\n",
            "0.8196\n",
            "              precision    recall  f1-score   support\n",
            "\n",
            "         0.0       0.90      0.90      0.90     90000\n",
            "         1.0       0.10      0.10      0.10     10000\n",
            "\n",
            "   micro avg       0.82      0.82      0.82    100000\n",
            "   macro avg       0.50      0.50      0.50    100000\n",
            "weighted avg       0.82      0.82      0.82    100000\n",
            "\n"
          ],
          "name": "stdout"
        }
      ]
    },
    {
      "metadata": {
        "id": "osm-WfuAcWgY",
        "colab_type": "code",
        "outputId": "813e55f8-cee8-4f83-80ac-193dc12ddc2a",
        "colab": {
          "base_uri": "https://localhost:8080/",
          "height": 510
        }
      },
      "cell_type": "code",
      "source": [
        ""
      ],
      "execution_count": 0,
      "outputs": [
        {
          "output_type": "stream",
          "text": [
            "[[0.]\n",
            " [0.]\n",
            " [0.]\n",
            " [0.]\n",
            " [1.]\n",
            " [0.]\n",
            " [0.]\n",
            " [0.]\n",
            " [0.]\n",
            " [1.]\n",
            " [0.]\n",
            " [0.]\n",
            " [0.]\n",
            " [0.]\n",
            " [1.]\n",
            " [0.]\n",
            " [0.]\n",
            " [0.]\n",
            " [0.]\n",
            " [1.]\n",
            " [0.]\n",
            " [0.]\n",
            " [0.]\n",
            " [0.]\n",
            " [1.]\n",
            " [0.]\n",
            " [0.]\n",
            " [0.]\n",
            " [0.]]\n"
          ],
          "name": "stdout"
        }
      ]
    },
    {
      "metadata": {
        "id": "tTJHp7ZonEB2",
        "colab_type": "code",
        "colab": {}
      },
      "cell_type": "code",
      "source": [
        ""
      ],
      "execution_count": 0,
      "outputs": []
    }
  ]
}